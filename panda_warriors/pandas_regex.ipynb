{
 "cells": [
  {
   "cell_type": "markdown",
   "metadata": {},
   "source": [
    "# PANDA WARRIORS\n",
    "![Panda Warriors](../img/pw.jpg)"
   ]
  },
  {
   "cell_type": "markdown",
   "metadata": {},
   "source": [
    "## ```Welcome to your challenge```\n",
    "\n",
    "You and your teammates have been asigned the role of `panda warriors`, the frontline of the data wars. Brave and strong, you are always in combat to _data_ `clean` our enemies off of this world. With your magical weapon **regex**, your task is to prepare and explore the path ahead.\n",
    "\n",
    "However, fighting the battle is not the end, you must live to tell the tale."
   ]
  },
  {
   "cell_type": "markdown",
   "metadata": {},
   "source": [
    "### The song of a hero\n",
    "\n",
    "Your theme is: `pandas, regex and datacleaning`\n",
    "The task in this challenge is twofold.\n",
    "Your team must:\n",
    "- Answer the most questions you can.\n",
    "- List **at least** `5` topics of interest (important points) on the theme to guide your 20 min presentation to your fellow students.\n",
    "- Work together and help each other out.\n",
    "\n",
    "_TIP_: Remember to check your topics along the exercise and adjust them accordingly.\n",
    "\n",
    "The team captain will be responsible for putting all the answers together on this notebook and making the pull request before the deadline set with the instructors."
   ]
  },
  {
   "cell_type": "markdown",
   "metadata": {},
   "source": [
    "# IMPORTANT POINTS\n",
    "\n",
    "- \n",
    "- \n",
    "- \n",
    "- \n",
    "- "
   ]
  },
  {
   "cell_type": "code",
   "execution_count": 97,
   "metadata": {},
   "outputs": [],
   "source": [
    "import pandas as pd\n",
    "import re "
   ]
  },
  {
   "cell_type": "code",
   "execution_count": 98,
   "metadata": {},
   "outputs": [
    {
     "data": {
      "text/html": [
       "<div>\n",
       "<style scoped>\n",
       "    .dataframe tbody tr th:only-of-type {\n",
       "        vertical-align: middle;\n",
       "    }\n",
       "\n",
       "    .dataframe tbody tr th {\n",
       "        vertical-align: top;\n",
       "    }\n",
       "\n",
       "    .dataframe thead th {\n",
       "        text-align: right;\n",
       "    }\n",
       "</style>\n",
       "<table border=\"1\" class=\"dataframe\">\n",
       "  <thead>\n",
       "    <tr style=\"text-align: right;\">\n",
       "      <th></th>\n",
       "      <th>SciName</th>\n",
       "      <th>PopName</th>\n",
       "      <th>id</th>\n",
       "    </tr>\n",
       "  </thead>\n",
       "  <tbody>\n",
       "    <tr>\n",
       "      <th>0</th>\n",
       "      <td>Panthera Pardus</td>\n",
       "      <td>Leopard</td>\n",
       "      <td>1446</td>\n",
       "    </tr>\n",
       "    <tr>\n",
       "      <th>1</th>\n",
       "      <td>Dugong Dugong</td>\n",
       "      <td>Dugong</td>\n",
       "      <td>1952</td>\n",
       "    </tr>\n",
       "    <tr>\n",
       "      <th>2</th>\n",
       "      <td>Tursiops Truncatus</td>\n",
       "      <td>Bottlenose dolphin</td>\n",
       "      <td>2001</td>\n",
       "    </tr>\n",
       "    <tr>\n",
       "      <th>3</th>\n",
       "      <td>Aplysia Californica</td>\n",
       "      <td>California sea hare</td>\n",
       "      <td>2246</td>\n",
       "    </tr>\n",
       "    <tr>\n",
       "      <th>4</th>\n",
       "      <td>Tinamiformes</td>\n",
       "      <td>Tinamous</td>\n",
       "      <td>3352</td>\n",
       "    </tr>\n",
       "  </tbody>\n",
       "</table>\n",
       "</div>"
      ],
      "text/plain": [
       "               SciName              PopName    id\n",
       "0      Panthera Pardus              Leopard  1446\n",
       "1        Dugong Dugong               Dugong  1952\n",
       "2   Tursiops Truncatus   Bottlenose dolphin  2001\n",
       "3  Aplysia Californica  California sea hare  2246\n",
       "4         Tinamiformes             Tinamous  3352"
      ]
     },
     "execution_count": 98,
     "metadata": {},
     "output_type": "execute_result"
    }
   ],
   "source": [
    "# Loading dataset\n",
    "# Run this cell\n",
    "df = pd.read_csv(\"data/animals.csv\", usecols=[\"id\", \"SciName\", \"PopName\"])\n",
    "#We use only the ID SciName and PopName colums\n",
    "df.head()"
   ]
  },
  {
   "cell_type": "code",
   "execution_count": 99,
   "metadata": {},
   "outputs": [
    {
     "data": {
      "text/html": [
       "<div>\n",
       "<style scoped>\n",
       "    .dataframe tbody tr th:only-of-type {\n",
       "        vertical-align: middle;\n",
       "    }\n",
       "\n",
       "    .dataframe tbody tr th {\n",
       "        vertical-align: top;\n",
       "    }\n",
       "\n",
       "    .dataframe thead th {\n",
       "        text-align: right;\n",
       "    }\n",
       "</style>\n",
       "<table border=\"1\" class=\"dataframe\">\n",
       "  <thead>\n",
       "    <tr style=\"text-align: right;\">\n",
       "      <th></th>\n",
       "      <th>SciName</th>\n",
       "      <th>PopName</th>\n",
       "      <th>id</th>\n",
       "    </tr>\n",
       "  </thead>\n",
       "  <tbody>\n",
       "    <tr>\n",
       "      <th>0</th>\n",
       "      <td>Panthera Pardus</td>\n",
       "      <td>Leopard</td>\n",
       "      <td>1446</td>\n",
       "    </tr>\n",
       "    <tr>\n",
       "      <th>1</th>\n",
       "      <td>Dugong Dugong</td>\n",
       "      <td>Dugong</td>\n",
       "      <td>1952</td>\n",
       "    </tr>\n",
       "    <tr>\n",
       "      <th>2</th>\n",
       "      <td>Tursiops Truncatus</td>\n",
       "      <td>Bottlenose dolphin</td>\n",
       "      <td>2001</td>\n",
       "    </tr>\n",
       "    <tr>\n",
       "      <th>3</th>\n",
       "      <td>Aplysia Californica</td>\n",
       "      <td>California sea hare</td>\n",
       "      <td>2246</td>\n",
       "    </tr>\n",
       "    <tr>\n",
       "      <th>4</th>\n",
       "      <td>Tinamiformes</td>\n",
       "      <td>Tinamous</td>\n",
       "      <td>3352</td>\n",
       "    </tr>\n",
       "  </tbody>\n",
       "</table>\n",
       "</div>"
      ],
      "text/plain": [
       "               SciName              PopName    id\n",
       "0      Panthera Pardus              Leopard  1446\n",
       "1        Dugong Dugong               Dugong  1952\n",
       "2   Tursiops Truncatus   Bottlenose dolphin  2001\n",
       "3  Aplysia Californica  California sea hare  2246\n",
       "4         Tinamiformes             Tinamous  3352"
      ]
     },
     "execution_count": 99,
     "metadata": {},
     "output_type": "execute_result"
    }
   ],
   "source": [
    "df.head()"
   ]
  },
  {
   "cell_type": "markdown",
   "metadata": {},
   "source": [
    "##### Your answer\n",
    "```\n",
    "<here>\n",
    "```"
   ]
  },
  {
   "cell_type": "markdown",
   "metadata": {},
   "source": [
    "The dataset you just loaded features part of the collection at a natural science museum. Should we check it for nulls? How?\n",
    "\n",
    "If there are, show us the rows with nulls."
   ]
  },
  {
   "cell_type": "code",
   "execution_count": 100,
   "metadata": {
    "scrolled": true
   },
   "outputs": [
    {
     "name": "stdout",
     "output_type": "stream",
     "text": [
      "<class 'pandas.core.frame.DataFrame'>\n",
      "RangeIndex: 189 entries, 0 to 188\n",
      "Data columns (total 3 columns):\n",
      " #   Column   Non-Null Count  Dtype \n",
      "---  ------   --------------  ----- \n",
      " 0   SciName  188 non-null    object\n",
      " 1   PopName  188 non-null    object\n",
      " 2   id       188 non-null    object\n",
      "dtypes: object(3)\n",
      "memory usage: 4.6+ KB\n"
     ]
    }
   ],
   "source": [
    "#There are cells with null values\n",
    "df.info()"
   ]
  },
  {
   "cell_type": "code",
   "execution_count": 101,
   "metadata": {},
   "outputs": [
    {
     "data": {
      "text/html": [
       "<div>\n",
       "<style scoped>\n",
       "    .dataframe tbody tr th:only-of-type {\n",
       "        vertical-align: middle;\n",
       "    }\n",
       "\n",
       "    .dataframe tbody tr th {\n",
       "        vertical-align: top;\n",
       "    }\n",
       "\n",
       "    .dataframe thead th {\n",
       "        text-align: right;\n",
       "    }\n",
       "</style>\n",
       "<table border=\"1\" class=\"dataframe\">\n",
       "  <thead>\n",
       "    <tr style=\"text-align: right;\">\n",
       "      <th></th>\n",
       "      <th>SciName</th>\n",
       "      <th>PopName</th>\n",
       "      <th>id</th>\n",
       "    </tr>\n",
       "  </thead>\n",
       "  <tbody>\n",
       "    <tr>\n",
       "      <th>103</th>\n",
       "      <td>NaN</td>\n",
       "      <td>name</td>\n",
       "      <td>NaN</td>\n",
       "    </tr>\n",
       "    <tr>\n",
       "      <th>154</th>\n",
       "      <td>binom</td>\n",
       "      <td>NaN</td>\n",
       "      <td>id_sp.</td>\n",
       "    </tr>\n",
       "  </tbody>\n",
       "</table>\n",
       "</div>"
      ],
      "text/plain": [
       "    SciName PopName      id\n",
       "103     NaN    name     NaN\n",
       "154   binom     NaN  id_sp."
      ]
     },
     "execution_count": 101,
     "metadata": {},
     "output_type": "execute_result"
    }
   ],
   "source": [
    "df[df.isna().any(axis=1)]"
   ]
  },
  {
   "cell_type": "code",
   "execution_count": 6,
   "metadata": {},
   "outputs": [
    {
     "name": "stdout",
     "output_type": "stream",
     "text": [
      "<class 'pandas.core.frame.DataFrame'>\n",
      "Int64Index: 187 entries, 0 to 188\n",
      "Data columns (total 3 columns):\n",
      " #   Column   Non-Null Count  Dtype \n",
      "---  ------   --------------  ----- \n",
      " 0   SciName  187 non-null    object\n",
      " 1   PopName  187 non-null    object\n",
      " 2   id       187 non-null    object\n",
      "dtypes: object(3)\n",
      "memory usage: 5.8+ KB\n"
     ]
    }
   ],
   "source": [
    "# We eliminate these rows with the following code\n",
    "\n",
    "df.dropna(inplace=True)\n",
    "df.info()"
   ]
  },
  {
   "cell_type": "markdown",
   "metadata": {},
   "source": [
    "Remove the unwanted rows. As we can see, there are scientific names composed of 1, 2 or 3 words. \n",
    "\n",
    "Using `regex`, can you select the following?\n",
    "- Only those whose name is composed of 3 words\n",
    "- Those whose first, second or third word begins with the letter c"
   ]
  },
  {
   "cell_type": "code",
   "execution_count": 7,
   "metadata": {},
   "outputs": [
    {
     "data": {
      "text/html": [
       "<div>\n",
       "<style scoped>\n",
       "    .dataframe tbody tr th:only-of-type {\n",
       "        vertical-align: middle;\n",
       "    }\n",
       "\n",
       "    .dataframe tbody tr th {\n",
       "        vertical-align: top;\n",
       "    }\n",
       "\n",
       "    .dataframe thead th {\n",
       "        text-align: right;\n",
       "    }\n",
       "</style>\n",
       "<table border=\"1\" class=\"dataframe\">\n",
       "  <thead>\n",
       "    <tr style=\"text-align: right;\">\n",
       "      <th></th>\n",
       "      <th>SciName</th>\n",
       "      <th>PopName</th>\n",
       "      <th>id</th>\n",
       "    </tr>\n",
       "  </thead>\n",
       "  <tbody>\n",
       "    <tr>\n",
       "      <th>21</th>\n",
       "      <td>Capra Aegagrus Hircus</td>\n",
       "      <td>Goat</td>\n",
       "      <td>18446</td>\n",
       "    </tr>\n",
       "    <tr>\n",
       "      <th>73</th>\n",
       "      <td>Canis Lupus Arctos</td>\n",
       "      <td>Arctic wolf</td>\n",
       "      <td>57403</td>\n",
       "    </tr>\n",
       "    <tr>\n",
       "      <th>83</th>\n",
       "      <td>Equus Caballus Przewalskii</td>\n",
       "      <td>Przewalski's wild horse</td>\n",
       "      <td>68677</td>\n",
       "    </tr>\n",
       "    <tr>\n",
       "      <th>96</th>\n",
       "      <td>Panthera Pardus Orientalis</td>\n",
       "      <td>Amur leopard</td>\n",
       "      <td>78443</td>\n",
       "    </tr>\n",
       "    <tr>\n",
       "      <th>151</th>\n",
       "      <td>Equus Asinus Somalicus</td>\n",
       "      <td>Somali wild ass</td>\n",
       "      <td>115900</td>\n",
       "    </tr>\n",
       "    <tr>\n",
       "      <th>159</th>\n",
       "      <td>Panthera Tigris Altaica</td>\n",
       "      <td>Siberian tiger</td>\n",
       "      <td>123006</td>\n",
       "    </tr>\n",
       "  </tbody>\n",
       "</table>\n",
       "</div>"
      ],
      "text/plain": [
       "                        SciName                  PopName      id\n",
       "21        Capra Aegagrus Hircus                     Goat   18446\n",
       "73           Canis Lupus Arctos              Arctic wolf   57403\n",
       "83   Equus Caballus Przewalskii  Przewalski's wild horse   68677\n",
       "96   Panthera Pardus Orientalis             Amur leopard   78443\n",
       "151      Equus Asinus Somalicus          Somali wild ass  115900\n",
       "159     Panthera Tigris Altaica           Siberian tiger  123006"
      ]
     },
     "execution_count": 7,
     "metadata": {},
     "output_type": "execute_result"
    }
   ],
   "source": [
    " #r\"[A-Za-z]*\",\n",
    "\n",
    "dividing = lambda x: re.split(\" \",str(x))\n",
    "#\\d = digit \\w=word     \\w \\w \\w\n",
    "\n",
    "#Obtain a list with different names\n",
    "sci_list=df[\"SciName\"].apply(dividing)\n",
    "#Obtain a serie with the length of the list\n",
    "sci_len=sci_list.apply(len)\n",
    "#Select all with length = 3\n",
    "df[sci_len == 3]"
   ]
  },
  {
   "cell_type": "code",
   "execution_count": 11,
   "metadata": {},
   "outputs": [
    {
     "data": {
      "text/html": [
       "<div>\n",
       "<style scoped>\n",
       "    .dataframe tbody tr th:only-of-type {\n",
       "        vertical-align: middle;\n",
       "    }\n",
       "\n",
       "    .dataframe tbody tr th {\n",
       "        vertical-align: top;\n",
       "    }\n",
       "\n",
       "    .dataframe thead th {\n",
       "        text-align: right;\n",
       "    }\n",
       "</style>\n",
       "<table border=\"1\" class=\"dataframe\">\n",
       "  <thead>\n",
       "    <tr style=\"text-align: right;\">\n",
       "      <th></th>\n",
       "      <th>SciName</th>\n",
       "      <th>PopName</th>\n",
       "      <th>id</th>\n",
       "    </tr>\n",
       "  </thead>\n",
       "  <tbody>\n",
       "    <tr>\n",
       "      <th>3</th>\n",
       "      <td>Aplysia Californica</td>\n",
       "      <td>California sea hare</td>\n",
       "      <td>2246</td>\n",
       "    </tr>\n",
       "    <tr>\n",
       "      <th>6</th>\n",
       "      <td>Cavia Porcellus</td>\n",
       "      <td>Guinea pig</td>\n",
       "      <td>5207</td>\n",
       "    </tr>\n",
       "    <tr>\n",
       "      <th>21</th>\n",
       "      <td>Capra Aegagrus Hircus</td>\n",
       "      <td>Goat</td>\n",
       "      <td>18446</td>\n",
       "    </tr>\n",
       "    <tr>\n",
       "      <th>25</th>\n",
       "      <td>Caracal Caracal</td>\n",
       "      <td>Caracal</td>\n",
       "      <td>21037</td>\n",
       "    </tr>\n",
       "    <tr>\n",
       "      <th>28</th>\n",
       "      <td>Conolophus Subcristatus</td>\n",
       "      <td>Galapagos land iguana</td>\n",
       "      <td>22009</td>\n",
       "    </tr>\n",
       "  </tbody>\n",
       "</table>\n",
       "</div>"
      ],
      "text/plain": [
       "                    SciName                PopName     id\n",
       "3       Aplysia Californica    California sea hare   2246\n",
       "6           Cavia Porcellus             Guinea pig   5207\n",
       "21    Capra Aegagrus Hircus                   Goat  18446\n",
       "25          Caracal Caracal                Caracal  21037\n",
       "28  Conolophus Subcristatus  Galapagos land iguana  22009"
      ]
     },
     "execution_count": 11,
     "metadata": {},
     "output_type": "execute_result"
    }
   ],
   "source": [
    "#Function to check when a word begin with C\n",
    "def find_c(names):\n",
    "    for name in names[:3]:\n",
    "        if name[0].lower() == \"c\":\n",
    "            return True\n",
    "    \n",
    "    return False\n",
    "        \n",
    "#Obtain a series with true/false that meets this condition\n",
    "has_c=sci_list.apply(find_c)\n",
    "#Selecting them and printing only the head\n",
    "df[has_c].head()"
   ]
  },
  {
   "cell_type": "markdown",
   "metadata": {},
   "source": [
    "How many names are there on each category(1 word, 2 words, 3 words)?"
   ]
  },
  {
   "cell_type": "code",
   "execution_count": 15,
   "metadata": {},
   "outputs": [
    {
     "data": {
      "text/plain": [
       "2    117\n",
       "1     64\n",
       "3      6\n",
       "Name: SciName, dtype: int64"
      ]
     },
     "execution_count": 15,
     "metadata": {},
     "output_type": "execute_result"
    }
   ],
   "source": [
    "#Count different lengths\n",
    "sci_len.value_counts()"
   ]
  },
  {
   "cell_type": "markdown",
   "metadata": {},
   "source": [
    "Unfortunately, the scientific names are not properly writen. The first word, the Genus, should be capitalized. The second and third, species and sub-species, should be lowercase. Can you please fix it, please?"
   ]
  },
  {
   "cell_type": "code",
   "execution_count": 18,
   "metadata": {},
   "outputs": [
    {
     "data": {
      "text/html": [
       "<div>\n",
       "<style scoped>\n",
       "    .dataframe tbody tr th:only-of-type {\n",
       "        vertical-align: middle;\n",
       "    }\n",
       "\n",
       "    .dataframe tbody tr th {\n",
       "        vertical-align: top;\n",
       "    }\n",
       "\n",
       "    .dataframe thead th {\n",
       "        text-align: right;\n",
       "    }\n",
       "</style>\n",
       "<table border=\"1\" class=\"dataframe\">\n",
       "  <thead>\n",
       "    <tr style=\"text-align: right;\">\n",
       "      <th></th>\n",
       "      <th>SciName</th>\n",
       "      <th>PopName</th>\n",
       "      <th>id</th>\n",
       "    </tr>\n",
       "  </thead>\n",
       "  <tbody>\n",
       "    <tr>\n",
       "      <th>0</th>\n",
       "      <td>Panthera pardus</td>\n",
       "      <td>Leopard</td>\n",
       "      <td>1446</td>\n",
       "    </tr>\n",
       "    <tr>\n",
       "      <th>1</th>\n",
       "      <td>Dugong dugong</td>\n",
       "      <td>Dugong</td>\n",
       "      <td>1952</td>\n",
       "    </tr>\n",
       "    <tr>\n",
       "      <th>2</th>\n",
       "      <td>Tursiops truncatus</td>\n",
       "      <td>Bottlenose dolphin</td>\n",
       "      <td>2001</td>\n",
       "    </tr>\n",
       "    <tr>\n",
       "      <th>3</th>\n",
       "      <td>Aplysia californica</td>\n",
       "      <td>California sea hare</td>\n",
       "      <td>2246</td>\n",
       "    </tr>\n",
       "    <tr>\n",
       "      <th>4</th>\n",
       "      <td>Tinamiformes</td>\n",
       "      <td>Tinamous</td>\n",
       "      <td>3352</td>\n",
       "    </tr>\n",
       "  </tbody>\n",
       "</table>\n",
       "</div>"
      ],
      "text/plain": [
       "               SciName              PopName    id\n",
       "0      Panthera pardus              Leopard  1446\n",
       "1        Dugong dugong               Dugong  1952\n",
       "2   Tursiops truncatus   Bottlenose dolphin  2001\n",
       "3  Aplysia californica  California sea hare  2246\n",
       "4         Tinamiformes             Tinamous  3352"
      ]
     },
     "execution_count": 18,
     "metadata": {},
     "output_type": "execute_result"
    }
   ],
   "source": [
    "def clean_name(names):\n",
    "    result=names[0]\n",
    "    for name in names[1:]:\n",
    "        result += \" \"+name.lower()\n",
    "    return result\n",
    "\n",
    "#2 métodos: 1 title, 2 capitalize\n",
    "\n",
    "df[\"SciName\"]=sci_list.apply(clean_name)\n",
    "df.head()"
   ]
  },
  {
   "cell_type": "markdown",
   "metadata": {},
   "source": [
    "Let's see the second part of our data. Load the csv at `data/scientists.csv`."
   ]
  },
  {
   "cell_type": "code",
   "execution_count": 76,
   "metadata": {
    "scrolled": true
   },
   "outputs": [
    {
     "data": {
      "text/html": [
       "<div>\n",
       "<style scoped>\n",
       "    .dataframe tbody tr th:only-of-type {\n",
       "        vertical-align: middle;\n",
       "    }\n",
       "\n",
       "    .dataframe tbody tr th {\n",
       "        vertical-align: top;\n",
       "    }\n",
       "\n",
       "    .dataframe thead th {\n",
       "        text-align: right;\n",
       "    }\n",
       "</style>\n",
       "<table border=\"1\" class=\"dataframe\">\n",
       "  <thead>\n",
       "    <tr style=\"text-align: right;\">\n",
       "      <th></th>\n",
       "      <th>name</th>\n",
       "      <th>1917</th>\n",
       "      <th>1918</th>\n",
       "      <th>1919</th>\n",
       "      <th>1920</th>\n",
       "      <th>1921</th>\n",
       "      <th>1922</th>\n",
       "      <th>1923</th>\n",
       "      <th>1924</th>\n",
       "      <th>1925</th>\n",
       "      <th>...</th>\n",
       "      <th>1941</th>\n",
       "      <th>1942</th>\n",
       "      <th>1943</th>\n",
       "      <th>1944</th>\n",
       "      <th>1945</th>\n",
       "      <th>1946</th>\n",
       "      <th>1947</th>\n",
       "      <th>1948</th>\n",
       "      <th>1949</th>\n",
       "      <th>1950</th>\n",
       "    </tr>\n",
       "  </thead>\n",
       "  <tbody>\n",
       "    <tr>\n",
       "      <th>0</th>\n",
       "      <td>Demetria S. Donovan</td>\n",
       "      <td>26264.0</td>\n",
       "      <td>NaN</td>\n",
       "      <td>98916.0</td>\n",
       "      <td>NaN</td>\n",
       "      <td>NaN</td>\n",
       "      <td>NaN</td>\n",
       "      <td>NaN</td>\n",
       "      <td>NaN</td>\n",
       "      <td>NaN</td>\n",
       "      <td>...</td>\n",
       "      <td>125932.0</td>\n",
       "      <td>NaN</td>\n",
       "      <td>NaN</td>\n",
       "      <td>NaN</td>\n",
       "      <td>146661.0</td>\n",
       "      <td>NaN</td>\n",
       "      <td>NaN</td>\n",
       "      <td>NaN</td>\n",
       "      <td>41296.0</td>\n",
       "      <td>NaN</td>\n",
       "    </tr>\n",
       "    <tr>\n",
       "      <th>1</th>\n",
       "      <td>Fuller Alvarado</td>\n",
       "      <td>33373.0</td>\n",
       "      <td>NaN</td>\n",
       "      <td>57148.0</td>\n",
       "      <td>1446.0</td>\n",
       "      <td>19269.0</td>\n",
       "      <td>NaN</td>\n",
       "      <td>NaN</td>\n",
       "      <td>82925.0</td>\n",
       "      <td>NaN</td>\n",
       "      <td>...</td>\n",
       "      <td>NaN</td>\n",
       "      <td>NaN</td>\n",
       "      <td>NaN</td>\n",
       "      <td>144229.0</td>\n",
       "      <td>2001.0</td>\n",
       "      <td>NaN</td>\n",
       "      <td>79419.0</td>\n",
       "      <td>NaN</td>\n",
       "      <td>NaN</td>\n",
       "      <td>68677.0</td>\n",
       "    </tr>\n",
       "    <tr>\n",
       "      <th>2</th>\n",
       "      <td>Amelia Kelley</td>\n",
       "      <td>NaN</td>\n",
       "      <td>78443.0</td>\n",
       "      <td>120323.0</td>\n",
       "      <td>NaN</td>\n",
       "      <td>48297.0</td>\n",
       "      <td>NaN</td>\n",
       "      <td>NaN</td>\n",
       "      <td>NaN</td>\n",
       "      <td>NaN</td>\n",
       "      <td>...</td>\n",
       "      <td>NaN</td>\n",
       "      <td>NaN</td>\n",
       "      <td>88456.0</td>\n",
       "      <td>NaN</td>\n",
       "      <td>NaN</td>\n",
       "      <td>NaN</td>\n",
       "      <td>NaN</td>\n",
       "      <td>NaN</td>\n",
       "      <td>92275.0</td>\n",
       "      <td>NaN</td>\n",
       "    </tr>\n",
       "    <tr>\n",
       "      <th>3</th>\n",
       "      <td>Hector Y. Mendez</td>\n",
       "      <td>NaN</td>\n",
       "      <td>97660.0</td>\n",
       "      <td>57403.0</td>\n",
       "      <td>2246.0</td>\n",
       "      <td>39303.0</td>\n",
       "      <td>NaN</td>\n",
       "      <td>NaN</td>\n",
       "      <td>24520.0</td>\n",
       "      <td>NaN</td>\n",
       "      <td>...</td>\n",
       "      <td>NaN</td>\n",
       "      <td>NaN</td>\n",
       "      <td>118157.0</td>\n",
       "      <td>NaN</td>\n",
       "      <td>NaN</td>\n",
       "      <td>NaN</td>\n",
       "      <td>NaN</td>\n",
       "      <td>NaN</td>\n",
       "      <td>NaN</td>\n",
       "      <td>NaN</td>\n",
       "    </tr>\n",
       "    <tr>\n",
       "      <th>4</th>\n",
       "      <td>Theodore Keller</td>\n",
       "      <td>NaN</td>\n",
       "      <td>NaN</td>\n",
       "      <td>NaN</td>\n",
       "      <td>NaN</td>\n",
       "      <td>NaN</td>\n",
       "      <td>16284.0</td>\n",
       "      <td>NaN</td>\n",
       "      <td>NaN</td>\n",
       "      <td>136654.0</td>\n",
       "      <td>...</td>\n",
       "      <td>NaN</td>\n",
       "      <td>74624.0</td>\n",
       "      <td>NaN</td>\n",
       "      <td>NaN</td>\n",
       "      <td>121258.0</td>\n",
       "      <td>129663.0</td>\n",
       "      <td>46561.0</td>\n",
       "      <td>NaN</td>\n",
       "      <td>NaN</td>\n",
       "      <td>NaN</td>\n",
       "    </tr>\n",
       "  </tbody>\n",
       "</table>\n",
       "<p>5 rows × 35 columns</p>\n",
       "</div>"
      ],
      "text/plain": [
       "                  name     1917     1918      1919    1920     1921     1922  \\\n",
       "0  Demetria S. Donovan  26264.0      NaN   98916.0     NaN      NaN      NaN   \n",
       "1      Fuller Alvarado  33373.0      NaN   57148.0  1446.0  19269.0      NaN   \n",
       "2        Amelia Kelley      NaN  78443.0  120323.0     NaN  48297.0      NaN   \n",
       "3     Hector Y. Mendez      NaN  97660.0   57403.0  2246.0  39303.0      NaN   \n",
       "4      Theodore Keller      NaN      NaN       NaN     NaN      NaN  16284.0   \n",
       "\n",
       "   1923     1924      1925  ...      1941     1942      1943      1944  \\\n",
       "0   NaN      NaN       NaN  ...  125932.0      NaN       NaN       NaN   \n",
       "1   NaN  82925.0       NaN  ...       NaN      NaN       NaN  144229.0   \n",
       "2   NaN      NaN       NaN  ...       NaN      NaN   88456.0       NaN   \n",
       "3   NaN  24520.0       NaN  ...       NaN      NaN  118157.0       NaN   \n",
       "4   NaN      NaN  136654.0  ...       NaN  74624.0       NaN       NaN   \n",
       "\n",
       "       1945      1946     1947  1948     1949     1950  \n",
       "0  146661.0       NaN      NaN   NaN  41296.0      NaN  \n",
       "1    2001.0       NaN  79419.0   NaN      NaN  68677.0  \n",
       "2       NaN       NaN      NaN   NaN  92275.0      NaN  \n",
       "3       NaN       NaN      NaN   NaN      NaN      NaN  \n",
       "4  121258.0  129663.0  46561.0   NaN      NaN      NaN  \n",
       "\n",
       "[5 rows x 35 columns]"
      ]
     },
     "execution_count": 76,
     "metadata": {},
     "output_type": "execute_result"
    }
   ],
   "source": [
    "df = pd.read_csv(\"data/scientists.csv\")\n",
    "df.head()"
   ]
  },
  {
   "cell_type": "markdown",
   "metadata": {},
   "source": [
    "What can you say about this dataframe? What should we do to fix it?\n",
    "\n",
    "It should probably be a little bit more like this:\n",
    "\n"
   ]
  },
  {
   "cell_type": "markdown",
   "metadata": {},
   "source": [
    "![Table](../img/table.png)"
   ]
  },
  {
   "cell_type": "code",
   "execution_count": 96,
   "metadata": {
    "scrolled": false
   },
   "outputs": [
    {
     "name": "stdout",
     "output_type": "stream",
     "text": [
      "(510, 3)\n"
     ]
    },
    {
     "data": {
      "text/html": [
       "<div>\n",
       "<style scoped>\n",
       "    .dataframe tbody tr th:only-of-type {\n",
       "        vertical-align: middle;\n",
       "    }\n",
       "\n",
       "    .dataframe tbody tr th {\n",
       "        vertical-align: top;\n",
       "    }\n",
       "\n",
       "    .dataframe thead th {\n",
       "        text-align: right;\n",
       "    }\n",
       "</style>\n",
       "<table border=\"1\" class=\"dataframe\">\n",
       "  <thead>\n",
       "    <tr style=\"text-align: right;\">\n",
       "      <th></th>\n",
       "      <th>name</th>\n",
       "      <th>variable</th>\n",
       "      <th>value</th>\n",
       "    </tr>\n",
       "  </thead>\n",
       "  <tbody>\n",
       "    <tr>\n",
       "      <th>0</th>\n",
       "      <td>Demetria S. Donovan</td>\n",
       "      <td>1917</td>\n",
       "      <td>26264.0</td>\n",
       "    </tr>\n",
       "    <tr>\n",
       "      <th>1</th>\n",
       "      <td>Fuller Alvarado</td>\n",
       "      <td>1917</td>\n",
       "      <td>33373.0</td>\n",
       "    </tr>\n",
       "    <tr>\n",
       "      <th>2</th>\n",
       "      <td>Amelia Kelley</td>\n",
       "      <td>1917</td>\n",
       "      <td>NaN</td>\n",
       "    </tr>\n",
       "    <tr>\n",
       "      <th>3</th>\n",
       "      <td>Hector Y. Mendez</td>\n",
       "      <td>1917</td>\n",
       "      <td>NaN</td>\n",
       "    </tr>\n",
       "    <tr>\n",
       "      <th>4</th>\n",
       "      <td>Theodore Keller</td>\n",
       "      <td>1917</td>\n",
       "      <td>NaN</td>\n",
       "    </tr>\n",
       "    <tr>\n",
       "      <th>5</th>\n",
       "      <td>Hiram C. Nielsen</td>\n",
       "      <td>1917</td>\n",
       "      <td>NaN</td>\n",
       "    </tr>\n",
       "    <tr>\n",
       "      <th>6</th>\n",
       "      <td>Tatum Carey</td>\n",
       "      <td>1917</td>\n",
       "      <td>48564.0</td>\n",
       "    </tr>\n",
       "    <tr>\n",
       "      <th>7</th>\n",
       "      <td>Cara Morgan</td>\n",
       "      <td>1917</td>\n",
       "      <td>NaN</td>\n",
       "    </tr>\n",
       "    <tr>\n",
       "      <th>8</th>\n",
       "      <td>Libby Tucker</td>\n",
       "      <td>1917</td>\n",
       "      <td>NaN</td>\n",
       "    </tr>\n",
       "    <tr>\n",
       "      <th>9</th>\n",
       "      <td>Prescott S. Estes</td>\n",
       "      <td>1917</td>\n",
       "      <td>13423.0</td>\n",
       "    </tr>\n",
       "  </tbody>\n",
       "</table>\n",
       "</div>"
      ],
      "text/plain": [
       "                  name variable    value\n",
       "0  Demetria S. Donovan     1917  26264.0\n",
       "1      Fuller Alvarado     1917  33373.0\n",
       "2        Amelia Kelley     1917      NaN\n",
       "3     Hector Y. Mendez     1917      NaN\n",
       "4      Theodore Keller     1917      NaN\n",
       "5     Hiram C. Nielsen     1917      NaN\n",
       "6          Tatum Carey     1917  48564.0\n",
       "7          Cara Morgan     1917      NaN\n",
       "8         Libby Tucker     1917      NaN\n",
       "9    Prescott S. Estes     1917  13423.0"
      ]
     },
     "execution_count": 96,
     "metadata": {},
     "output_type": "execute_result"
    }
   ],
   "source": [
    "columns=list(df.columns)\n",
    "#df2= df.pivot(df,index=columns,columns='name')\n",
    "df2=df.melt(\"name\")\n",
    "print(df2.shape)\n",
    "df2.head(10)"
   ]
  },
  {
   "cell_type": "markdown",
   "metadata": {},
   "source": [
    "Could you do it? How did you make it so the columns were now rows?\n",
    "\n",
    "What is the shape of the dataframe after fixing it?\n",
    "\n",
    "If you couldn't, I'll give you a hint. But you must try first! Panda Warrior honor code!"
   ]
  },
  {
   "cell_type": "code",
   "execution_count": null,
   "metadata": {},
   "outputs": [],
   "source": [
    "###############################################################################################\n",
    "# Uncomment and run for hint\n",
    "# import base64\n",
    "# base64.b64decode(\"WW91IG1pZ2h0IG5lZWQgZWl0aGVyIHRoZSBwaXZvdCBvciBtZWx0IGZ1bmN0aW9uLi4uLg==\")"
   ]
  },
  {
   "cell_type": "markdown",
   "metadata": {},
   "source": [
    "Can you join both dataframes now?\n",
    "\n",
    "What kind of join is best suited? Left, Right, Inner, Outer? Why?"
   ]
  },
  {
   "cell_type": "code",
   "execution_count": null,
   "metadata": {},
   "outputs": [],
   "source": [
    "# Your answer"
   ]
  },
  {
   "cell_type": "markdown",
   "metadata": {},
   "source": [
    "Now that both dataframes are united, can you use `apply` one more time to create a new column that contains the binomial nomenclature, the scientist and the year of the study?\n",
    "\n",
    "_Each element on the resulting column should be like:_ `Panthera pardus - Fuller Alvarado (1920)`"
   ]
  },
  {
   "cell_type": "code",
   "execution_count": null,
   "metadata": {},
   "outputs": [],
   "source": [
    "# Your answer"
   ]
  },
  {
   "cell_type": "markdown",
   "metadata": {},
   "source": [
    "How can we see the specimens studied by each scientist?"
   ]
  },
  {
   "cell_type": "code",
   "execution_count": null,
   "metadata": {},
   "outputs": [],
   "source": [
    "# Your answer"
   ]
  },
  {
   "cell_type": "markdown",
   "metadata": {},
   "source": [
    "How many specimens were studied by each scientist each year?\n",
    "\n",
    "_Hint_: Use groupings"
   ]
  },
  {
   "cell_type": "code",
   "execution_count": null,
   "metadata": {},
   "outputs": [],
   "source": [
    "# Your answer"
   ]
  },
  {
   "cell_type": "markdown",
   "metadata": {},
   "source": [
    "### Discussion topics\n",
    "\n",
    "The following are a few questions and points you should debate and think about with your teammates.\n",
    "\n",
    "- When data cleaning, how should we evaluate our strategy regarding nulls? Deleting rows, deleting columns, filling nulls?\n",
    "- May a column have elements of mixed data types?\n",
    "- May a pandas.DataFrame have more than 2 dimensions?\n",
    "- How does the axis parameter affect the apply?\n",
    "- What is the difference between join and merge? What about concat?\n",
    "- What is the difference between pivot and melt?"
   ]
  },
  {
   "cell_type": "markdown",
   "metadata": {},
   "source": [
    "#### Extra\n",
    "[Pandas Quiz!](https://www.wwf.org.uk/node/40546)"
   ]
  }
 ],
 "metadata": {
  "kernelspec": {
   "display_name": "Python 3",
   "language": "python",
   "name": "python3"
  },
  "language_info": {
   "codemirror_mode": {
    "name": "ipython",
    "version": 3
   },
   "file_extension": ".py",
   "mimetype": "text/x-python",
   "name": "python",
   "nbconvert_exporter": "python",
   "pygments_lexer": "ipython3",
   "version": "3.8.5"
  }
 },
 "nbformat": 4,
 "nbformat_minor": 4
}
